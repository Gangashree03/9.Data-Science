{
 "cells": [
  {
   "cell_type": "code",
   "execution_count": 1,
   "id": "d4b5483d-a7aa-4b75-9951-76a185b04d73",
   "metadata": {},
   "outputs": [],
   "source": [
    "from univariate import univariate"
   ]
  },
  {
   "cell_type": "code",
   "execution_count": 2,
   "id": "a404035b-aab8-478f-b133-942145e3aa6d",
   "metadata": {},
   "outputs": [],
   "source": [
    "import pandas as pd"
   ]
  },
  {
   "cell_type": "code",
   "execution_count": 3,
   "id": "c9f9cf79-245c-49d4-b2d1-96bbca10e500",
   "metadata": {},
   "outputs": [],
   "source": [
    "dataset=pd.read_csv(\"placement.csv\")"
   ]
  },
  {
   "cell_type": "code",
   "execution_count": 4,
   "id": "0011f0a7-6852-40f1-8a7e-e1b97399b9e6",
   "metadata": {},
   "outputs": [],
   "source": [
    "quan,qual=univariate.quanQual(dataset)"
   ]
  },
  {
   "cell_type": "code",
   "execution_count": 5,
   "id": "1bf444b0-4b18-4808-b2c3-e07bb837aac8",
   "metadata": {},
   "outputs": [
    {
     "data": {
      "text/plain": [
       "['sl_no', 'ssc_p', 'hsc_p', 'degree_p', 'etest_p', 'mba_p', 'salary']"
      ]
     },
     "execution_count": 5,
     "metadata": {},
     "output_type": "execute_result"
    }
   ],
   "source": [
    "quan"
   ]
  },
  {
   "cell_type": "code",
   "execution_count": 6,
   "id": "a868ce70-77d9-4a69-ae79-d4b7803bce5f",
   "metadata": {},
   "outputs": [
    {
     "data": {
      "text/plain": [
       "['gender',\n",
       " 'ssc_b',\n",
       " 'hsc_b',\n",
       " 'hsc_s',\n",
       " 'degree_t',\n",
       " 'workex',\n",
       " 'specialisation',\n",
       " 'status']"
      ]
     },
     "execution_count": 6,
     "metadata": {},
     "output_type": "execute_result"
    }
   ],
   "source": [
    "qual"
   ]
  },
  {
   "cell_type": "code",
   "execution_count": null,
   "id": "6133df5e-e4e3-44bb-8fe5-76218d897b4c",
   "metadata": {},
   "outputs": [],
   "source": []
  }
 ],
 "metadata": {
  "kernelspec": {
   "display_name": "Python 3 (ipykernel)",
   "language": "python",
   "name": "python3"
  },
  "language_info": {
   "codemirror_mode": {
    "name": "ipython",
    "version": 3
   },
   "file_extension": ".py",
   "mimetype": "text/x-python",
   "name": "python",
   "nbconvert_exporter": "python",
   "pygments_lexer": "ipython3",
   "version": "3.11.5"
  }
 },
 "nbformat": 4,
 "nbformat_minor": 5
}
